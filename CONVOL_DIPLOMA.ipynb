{
 "cells": [
  {
   "cell_type": "code",
   "execution_count": 79,
   "metadata": {},
   "outputs": [],
   "source": [
    "import time\n",
    "import os \n",
    "from IPython.display import SVG\n",
    "from keras.utils.vis_utils import model_to_dot\n",
    "import matplotlib.pyplot as plt \n",
    "os.chdir(r'c:/users/vasil/desktop/parsing_data')\n",
    "import pandas as pd\n",
    "import numpy as np\n",
    "from operator import itemgetter\n",
    "from nltk.corpus import stopwords\n",
    "from nltk.tokenize import word_tokenize\n",
    "from wordcloud import WordCloud\n",
    "import string\n",
    "import pymorphy2\n",
    "morph = pymorphy2.MorphAnalyzer()\n",
    "from sklearn.model_selection import train_test_split\n",
    "from sklearn.metrics import f1_score\n",
    "from sklearn.metrics import classification_report\n",
    "from keras.preprocessing.text import Tokenizer\n",
    "from keras.preprocessing.sequence import pad_sequences\n",
    "from keras.models import Sequential\n",
    "from keras.layers import Input\n",
    "from keras.layers import Dense, Flatten, Embedding, GlobalMaxPool1D, Dropout,SpatialDropout1D, LSTM, Bidirectional, Conv1D\n",
    "from keras.layers.convolutional import MaxPooling1D\n",
    "from keras.optimizers import Adam\n",
    "from keras.layers.recurrent import GRU\n",
    "from keras.models import load_model\n",
    "from keras.callbacks import ReduceLROnPlateau, EarlyStopping, ModelCheckpoint\n",
    "from sklearn.metrics import roc_auc_score\n",
    "import pickle\n"
   ]
  },
  {
   "cell_type": "code",
   "execution_count": 80,
   "metadata": {},
   "outputs": [],
   "source": [
    "def clear(txt):\n",
    "    tokens=[morph.parse(w)[0].normal_form for w in txt.split()]\n",
    "    tbl=str.maketrans('', '',string.punctuation)\n",
    "    stripped=[w.translate(tbl) for w in tokens]\n",
    "    stop_words = stopwords.words('russian')                                                               \n",
    "    words=[word for word in stripped if word.isalpha() and word not in stop_words] \n",
    "    return str(words)\n",
    "\n",
    "data = pd.read_csv('clean_data_1.csv', sep=';', encoding='windows-1251')\n",
    "data = data.drop('Unnamed: 0', axis=1)\n",
    "labels = data.loc[:,'salary':'court_threat'].astype('category')\n",
    "data['text'] = data['text'].map(lambda x: clear(str(x)))\n",
    "num_labels = 7\n",
    "\n",
    "\n",
    "\n",
    "tokenizer = Tokenizer(num_words=5000, lower=True)\n",
    "tokenizer.fit_on_texts(data['text'])\n",
    "vocab_size = len(tokenizer.word_index)+1"
   ]
  },
  {
   "cell_type": "code",
   "execution_count": 81,
   "metadata": {},
   "outputs": [],
   "source": [
    "\n",
    "counts = []\n",
    "for category in list(data.columns.values)[1:]:\n",
    "    counts.append(data[category].sum())\n",
    "  \n",
    "class_weights={\n",
    "    0: 1.0/counts[0],\n",
    "    1: 1.0/counts[1],\n",
    "    2: 1.0/counts[2],\n",
    "    3: 1.0/counts[3],\n",
    "    4: 1.0/counts[4],\n",
    "    5: 1.0/counts[5],\n",
    "    6: 1.0/counts[6],\n",
    "}"
   ]
  },
  {
   "cell_type": "code",
   "execution_count": null,
   "metadata": {},
   "outputs": [],
   "source": []
  },
  {
   "cell_type": "code",
   "execution_count": 82,
   "metadata": {},
   "outputs": [],
   "source": [
    "x_train, x_test,y_train, y_test = train_test_split(data['text'], labels, random_state=42, test_size=0.2, shuffle=True)"
   ]
  },
  {
   "cell_type": "code",
   "execution_count": 83,
   "metadata": {},
   "outputs": [],
   "source": [
    "sequences_train = tokenizer.texts_to_sequences(x_train)\n",
    "train_x = np.array(pad_sequences(sequences_train, maxlen=90))\n",
    "\n",
    "sequences_train_1 = tokenizer.texts_to_sequences(x_test)\n",
    "test_x = np.array(pad_sequences(sequences_train_1, maxlen=90))"
   ]
  },
  {
   "cell_type": "code",
   "execution_count": 84,
   "metadata": {},
   "outputs": [],
   "source": [
    "epochs = 100\n",
    "batch_size = 64\n",
    "n_words_to_skip = 50\n",
    "pad_type = trunc_type = 'pre'\n",
    "drop_embed = 0.2\n",
    "n_dense = 256\n",
    "dropout = 0.2\n",
    "n_conv = 256\n",
    "k_conv = 3\n",
    "embedding_dim = 300"
   ]
  },
  {
   "cell_type": "code",
   "execution_count": 89,
   "metadata": {},
   "outputs": [],
   "source": [
    "model = Sequential()\n",
    "model.add(Embedding(vocab_size, embedding_dim,input_length = 90, trainable=True))\n",
    "model.add(Dropout(0.2))\n",
    "model.add(LSTM(50))\n",
    "model.add(Dense(7,activation='sigmoid'))"
   ]
  },
  {
   "cell_type": "code",
   "execution_count": 93,
   "metadata": {},
   "outputs": [
    {
     "name": "stdout",
     "output_type": "stream",
     "text": [
      "_________________________________________________________________\n",
      "Layer (type)                 Output Shape              Param #   \n",
      "=================================================================\n",
      "embedding_18 (Embedding)     (None, 90, 300)           1087500   \n",
      "_________________________________________________________________\n",
      "dropout_8 (Dropout)          (None, 90, 300)           0         \n",
      "_________________________________________________________________\n",
      "lstm_5 (LSTM)                (None, 100)               160400    \n",
      "_________________________________________________________________\n",
      "dense_13 (Dense)             (None, 7)                 707       \n",
      "=================================================================\n",
      "Total params: 1,248,607\n",
      "Trainable params: 1,248,607\n",
      "Non-trainable params: 0\n",
      "_________________________________________________________________\n"
     ]
    }
   ],
   "source": [
    "model.summary()"
   ]
  },
  {
   "cell_type": "code",
   "execution_count": null,
   "metadata": {},
   "outputs": [],
   "source": []
  },
  {
   "cell_type": "code",
   "execution_count": null,
   "metadata": {},
   "outputs": [],
   "source": []
  },
  {
   "cell_type": "code",
   "execution_count": 71,
   "metadata": {},
   "outputs": [],
   "source": [
    "#new\n",
    "model = Sequential()\n",
    "emb = Embedding(vocab_size, embedding_dim,input_length = 90, trainable=True)\n",
    "\n",
    "model.add(emb)\n",
    "model.add(Conv1D(n_conv, k_conv, activation='relu'))\n",
    "model.add(MaxPooling1D()) \n",
    "model.add(Conv1D(n_conv, k_conv, activation='relu'))\n",
    "model.add(MaxPooling1D()) \n",
    "model.add(Conv1D(n_conv, k_conv, activation='relu'))\n",
    "model.add(MaxPooling1D())  # global max pooling\n",
    "model.add(Dropout(0.2))\n",
    "model.add(Flatten())\n",
    "model.add(Dense(128, activation='relu'))\n",
    "model.add(Dense(7, activation='sigmoid'))"
   ]
  },
  {
   "cell_type": "code",
   "execution_count": 8,
   "metadata": {},
   "outputs": [],
   "source": [
    "model = Sequential() # лучшая\n",
    "model.add(Embedding(vocab_size, embedding_dim,input_length = 90, trainable=True))\n",
    "model.add(Conv1D(n_conv, k_conv, activation='relu'))\n",
    "#model.add(MaxPooling1D()) \n",
    "model.add(Dropout(0.2))\n",
    "model.add(GlobalMaxPool1D())\n",
    "model.add(Dense(7, activation='sigmoid'))"
   ]
  },
  {
   "cell_type": "code",
   "execution_count": 90,
   "metadata": {},
   "outputs": [],
   "source": [
    "model.compile(optimizer=Adam(0.015), loss='binary_crossentropy', metrics=['categorical_accuracy'])\n",
    "callbacks = [\n",
    "    ReduceLROnPlateau(),\n",
    "    EarlyStopping(patience=4), \n",
    "    ModelCheckpoint(filepath='Convolutional.h5', save_best_only=True)\n",
    "]\n"
   ]
  },
  {
   "cell_type": "code",
   "execution_count": 91,
   "metadata": {},
   "outputs": [
    {
     "name": "stdout",
     "output_type": "stream",
     "text": [
      "Train on 440 samples, validate on 49 samples\n",
      "Epoch 1/100\n",
      "440/440 [==============================] - 7s 16ms/step - loss: 0.0047 - categorical_accuracy: 0.1818 - val_loss: 0.0037 - val_categorical_accuracy: 0.2245\n",
      "Epoch 2/100\n",
      "440/440 [==============================] - 4s 8ms/step - loss: 0.0041 - categorical_accuracy: 0.1045 - val_loss: 0.0036 - val_categorical_accuracy: 0.1020\n",
      "Epoch 3/100\n",
      "440/440 [==============================] - 4s 8ms/step - loss: 0.0039 - categorical_accuracy: 0.2864 - val_loss: 0.0033 - val_categorical_accuracy: 0.4898\n",
      "Epoch 4/100\n",
      "440/440 [==============================] - 4s 8ms/step - loss: 0.0036 - categorical_accuracy: 0.4091 - val_loss: 0.0034 - val_categorical_accuracy: 0.3265\n",
      "Epoch 5/100\n",
      "440/440 [==============================] - 4s 8ms/step - loss: 0.0031 - categorical_accuracy: 0.4909 - val_loss: 0.0032 - val_categorical_accuracy: 0.3061\n",
      "Epoch 6/100\n",
      "440/440 [==============================] - 4s 8ms/step - loss: 0.0023 - categorical_accuracy: 0.6818 - val_loss: 0.0034 - val_categorical_accuracy: 0.3469\n",
      "Epoch 7/100\n",
      "440/440 [==============================] - 4s 8ms/step - loss: 0.0014 - categorical_accuracy: 0.7409 - val_loss: 0.0034 - val_categorical_accuracy: 0.3878\n",
      "Epoch 8/100\n",
      "440/440 [==============================] - 4s 8ms/step - loss: 6.8848e-04 - categorical_accuracy: 0.7909 - val_loss: 0.0039 - val_categorical_accuracy: 0.3469\n",
      "Epoch 9/100\n",
      "440/440 [==============================] - 4s 8ms/step - loss: 3.3091e-04 - categorical_accuracy: 0.8091 - val_loss: 0.0042 - val_categorical_accuracy: 0.3469\n"
     ]
    }
   ],
   "source": [
    "history = model.fit(train_x, y_train, class_weight=class_weights, batch_size=batch_size, epochs=epochs, \n",
    "    verbose=1, validation_split=.1,\n",
    "    callbacks=callbacks)"
   ]
  },
  {
   "cell_type": "code",
   "execution_count": null,
   "metadata": {},
   "outputs": [],
   "source": []
  },
  {
   "cell_type": "code",
   "execution_count": 7,
   "metadata": {},
   "outputs": [],
   "source": [
    "model = Sequential()\n",
    "emb = Embedding(vocab_size, embedding_dim,input_length = 90, trainable=True)\n",
    "model.add(emb)\n",
    "#model.add(SpatialDropout1D(drop_embed)) # при сверточной было 0.2\n",
    "#model.add(Conv1D(n_conv, k_conv, activation='relu'))\n",
    "#model.add(GlobalMaxPool1D())\n",
    "#model.add(Dense(n_dense, activation='relu'))\n",
    "#model.add(Dropout(dropout))\n",
    "model.add(Dropout(0.15))\n",
    "model.add(GlobalMaxPool1D())\n",
    "model.add(Dense(7, activation='sigmoid'))\n",
    "#model.add(LSTM(64, dropout=0.2, recurrent_dropout=0.2))\n",
    "#model.add(Dense(7, activation='sigmoid'))\n",
    "\n",
    "\n"
   ]
  },
  {
   "cell_type": "code",
   "execution_count": null,
   "metadata": {},
   "outputs": [],
   "source": []
  },
  {
   "cell_type": "code",
   "execution_count": 11,
   "metadata": {},
   "outputs": [
    {
     "name": "stderr",
     "output_type": "stream",
     "text": [
      "C:\\Users\\vasil\\Anaconda3\\envs\\dp\\lib\\site-packages\\keras\\engine\\sequential.py:109: UserWarning: `Sequential.model` is deprecated. `Sequential` is a subclass of `Model`, you can just use your `Sequential` instance directly.\n",
      "  warnings.warn('`Sequential.model` is deprecated. '\n"
     ]
    }
   ],
   "source": [
    "# creates a HDF5 file 'my_model.h5'\n",
    "model.model.save('working_model.h5')\n",
    " \n",
    "# Save Tokenizer i.e. Vocabulary\n",
    "with open('tokenizer.pickle', 'wb') as handle:\n",
    "    pickle.dump(tokenizer, handle, protocol=pickle.HIGHEST_PROTOCOL)"
   ]
  },
  {
   "cell_type": "code",
   "execution_count": 3,
   "metadata": {},
   "outputs": [],
   "source": [
    "model = load_model('working_model.h5')\n",
    " \n",
    "# load tokenizer\n",
    "tokenizer = Tokenizer()\n",
    "with open('tokenizer.pickle', 'rb') as handle:\n",
    "    tokenizer = pickle.load(handle)"
   ]
  },
  {
   "cell_type": "code",
   "execution_count": 24,
   "metadata": {},
   "outputs": [],
   "source": [
    "inp_txt = 'Начальник мудак и зарплата маленькая'\n",
    "clean_inp = clear(inp_txt)\n",
    "textArray = np.array(pad_sequences(tokenizer.texts_to_sequences([clean_inp]), maxlen=90))"
   ]
  },
  {
   "cell_type": "code",
   "execution_count": 28,
   "metadata": {},
   "outputs": [
    {
     "name": "stdout",
     "output_type": "stream",
     "text": [
      "489/489 [==============================] - 0s 179us/step\n"
     ]
    },
    {
     "data": {
      "text/plain": [
       "[0.04863647211548741, 0.8159509203063442]"
      ]
     },
     "execution_count": 28,
     "metadata": {},
     "output_type": "execute_result"
    }
   ],
   "source": [
    "model.evaluate(train_x, y_train)"
   ]
  },
  {
   "cell_type": "code",
   "execution_count": 76,
   "metadata": {},
   "outputs": [
    {
     "data": {
      "image/png": "[encoded data removed]",
      "text/plain": [
       "<Figure size 432x288 with 1 Axes>"
      ]
     },
     "metadata": {
      "needs_background": "light"
     },
     "output_type": "display_data"
    },
    {
     "data": {
      "image/png": "[encoded data removed]",
      "text/plain": [
       "<Figure size 432x288 with 1 Axes>"
      ]
     },
     "metadata": {
      "needs_background": "light"
     },
     "output_type": "display_data"
    }
   ],
   "source": [
    "acc = history.history['categorical_accuracy']\n",
    "val_acc = history.history['val_categorical_accuracy']\n",
    "loss = history.history['loss']\n",
    "val_loss = history.history['val_loss']\n",
    "\n",
    "epochs = range(1, len(acc) + 1)\n",
    "\n",
    "plt.plot(epochs, acc, 'b', label='Training categ acc')\n",
    "plt.plot(epochs, val_acc, 'b', color='red', label='Validation categ acc')\n",
    "plt.title('Training and validation categorical accuracy')\n",
    "plt.legend()\n",
    "\n",
    "plt.figure()\n",
    "\n",
    "plt.plot(epochs, loss, 'b',  label='Training loss')\n",
    "plt.plot(epochs, val_loss, 'b',color='red', label='Validation loss')\n",
    "plt.title('Training and validation loss')\n",
    "plt.legend()\n",
    "\n",
    "plt.show()"
   ]
  },
  {
   "cell_type": "code",
   "execution_count": null,
   "metadata": {},
   "outputs": [],
   "source": [
    "def create_model(num_filters, kernel_size, vocab_size, embedding_dim, maxlen):\n",
    "    model = Sequential()\n",
    "    model.add(layers.Embedding(vocab_size, embedding_dim, input_length=maxlen))\n",
    "    model.add(layers.Conv1D(num_filters, kernel_size, activation='relu'))\n",
    "    model.add(layers.GlobalMaxPooling1D())\n",
    "    model.add(layers.Dense(10, activation='relu'))\n",
    "    model.add(layers.Dense(1, activation='sigmoid'))\n",
    "    model.compile(optimizer='adam',\n",
    "                  loss='binary_crossentropy',\n",
    "                  metrics=['categorical_accuracy'])\n",
    "    return model"
   ]
  },
  {
   "cell_type": "code",
   "execution_count": null,
   "metadata": {},
   "outputs": [],
   "source": [
    "param_grid = dict(num_filters=[32, 64, 128],\n",
    "                  kernel_size=[3, 5, 7],\n",
    "                  vocab_size=[len(tokenizer.word_index)+1], \n",
    "                  embedding_dim=[50],\n",
    "                  maxlen=[100])\n",
    "#vocab_size = len(tokenizer.word_index)+1"
   ]
  },
  {
   "cell_type": "code",
   "execution_count": null,
   "metadata": {},
   "outputs": [],
   "source": [
    "from keras.wrappers.scikit_learn import KerasClassifier\n",
    "from sklearn.model_selection import RandomizedSearchCV\n",
    "\n",
    "# Main settings\n",
    "epochs = 20\n",
    "embedding_dim = 50\n",
    "maxlen = 100"
   ]
  },
  {
   "cell_type": "code",
   "execution_count": null,
   "metadata": {},
   "outputs": [],
   "source": [
    "model = KerasClassifier(build_fn=create_model,\n",
    "                            epochs=epochs, batch_size=10,\n",
    "                            verbose=False)\n",
    "    grid = RandomizedSearchCV(estimator=model, param_distributions=param_grid,\n",
    "                              cv=4, verbose=1, n_iter=5)\n",
    "    grid_result = grid.fit(X_train, y_train)\n",
    "\n",
    "    # Evaluate testing set\n",
    "    test_accuracy = grid.score(X_test, y_test)"
   ]
  },
  {
   "cell_type": "code",
   "execution_count": null,
   "metadata": {},
   "outputs": [],
   "source": []
  },
  {
   "cell_type": "code",
   "execution_count": null,
   "metadata": {},
   "outputs": [],
   "source": []
  }
 ],
 "metadata": {
  "kernelspec": {
   "display_name": "Python 3",
   "language": "python",
   "name": "python3"
  },
  "language_info": {
   "codemirror_mode": {
    "name": "ipython",
    "version": 3
   },
   "file_extension": ".py",
   "mimetype": "text/x-python",
   "name": "python",
   "nbconvert_exporter": "python",
   "pygments_lexer": "ipython3",
   "version": "3.6.7"
  }
 },
 "nbformat": 4,
 "nbformat_minor": 2
}
